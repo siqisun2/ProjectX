{
 "cells": [
  {
   "cell_type": "code",
   "execution_count": 1,
   "metadata": {
    "collapsed": false
   },
   "outputs": [
    {
     "name": "stderr",
     "output_type": "stream",
     "text": [
      "WARNING (theano.gof.compilelock): Overriding existing lock by dead process '2820' (I am process '2906')\n",
      "Using gpu device 3: GeForce GTX TITAN X (CNMeM is disabled, cuDNN 5005)\n"
     ]
    }
   ],
   "source": [
    "%load_ext autoreload\n",
    "%autoreload 2\n",
    "%matplotlib inline\n",
    "\n",
    "\n",
    "import numpy as np\n",
    "import theano\n",
    "import theano.tensor as T\n",
    "import lasagne as nn\n",
    "import string\n",
    "import sys\n",
    "from datetime import datetime, timedelta\n",
    "import importlib\n",
    "import time\n",
    "import cPickle \n",
    "import cPickle as pickle\n",
    "import src.utils_contact as utils\n",
    "#from utils_contact import confusionMatrix, TopAccuracyByRange\n",
    "import matplotlib.pyplot as plt\n",
    "import random\n",
    "import os\n",
    "import glob\n",
    "import numpy as np\n",
    "\n",
    "import src.correct_data as read_data\n",
    "from src.utils_contact import TopAccuracy\n",
    "import src.evaluate as EV\n",
    "\n",
    "\n",
    "np.random.seed(1234)\n",
    "sys.setrecursionlimit(15000000)\n",
    "\n",
    "num_classes = 12\n",
    "\n",
    "if num_classes == 3:\n",
    "    response = 0 \n",
    "    responseStr = '3C'\n",
    "else:\n",
    "    response = 1\n",
    "    responseStr = '12C'"
   ]
  },
  {
   "cell_type": "code",
   "execution_count": 2,
   "metadata": {
    "collapsed": false
   },
   "outputs": [
    {
     "name": "stdout",
     "output_type": "stream",
     "text": [
      "# of parameters is  1129545\n"
     ]
    }
   ],
   "source": [
    "models_configs = 'config.config_dense_largest'\n",
    "l, e = EV.LoadConfig(models_configs, False)"
   ]
  },
  {
   "cell_type": "code",
   "execution_count": 3,
   "metadata": {
    "collapsed": false
   },
   "outputs": [
    {
     "name": "stdout",
     "output_type": "stream",
     "text": [
      "131\n"
     ]
    }
   ],
   "source": [
    "model_files_tmp = glob.glob('/mnt/home/siqi/x_models/dense_largest/config_dense-*.pkl')\n",
    "model_files = []\n",
    "for m in model_files_tmp:\n",
    "    if not '0227' in m:\n",
    "        model_files.append(m)\n",
    "print len(model_files)"
   ]
  },
  {
   "cell_type": "code",
   "execution_count": null,
   "metadata": {
    "collapsed": false
   },
   "outputs": [
    {
     "name": "stdout",
     "output_type": "stream",
     "text": [
      "assembled features for  1  proteins.\n",
      "assembled features for  1  proteins.\n",
      "assembled features for  1  proteins.\n",
      "assembled features for  1  proteins.\n",
      "0\n",
      "63 / 105"
     ]
    }
   ],
   "source": [
    "for task in ['casp', 'cameo76', 'mems400']:\n",
    "    X, truth_cm, db = EV.ReadData(task, responseStr)\n",
    "    l_outs = []; evals = []; deter=True\n",
    "    res = dict()\n",
    "    for idx_c, c in enumerate(model_files):\n",
    "        print idx_c\n",
    "        nn.layers.set_all_param_values(l, np.load(model_files[idx_c])['param_values'])\n",
    "        evals.append(e)\n",
    "        l_outs.append(l)\n",
    "        res[c] = EV.AverageModels([l_outs[-1]], X, truth_cm, [evals[-1]], './res/' + os.path.basename(c) + '.'+task, responseStr, db, task, sym=True)\n",
    "        print "
   ]
  }
 ],
 "metadata": {
  "kernelspec": {
   "display_name": "Python 2",
   "language": "python",
   "name": "python2"
  },
  "language_info": {
   "codemirror_mode": {
    "name": "ipython",
    "version": 2
   },
   "file_extension": ".py",
   "mimetype": "text/x-python",
   "name": "python",
   "nbconvert_exporter": "python",
   "pygments_lexer": "ipython2",
   "version": "2.7.11"
  }
 },
 "nbformat": 4,
 "nbformat_minor": 0
}
